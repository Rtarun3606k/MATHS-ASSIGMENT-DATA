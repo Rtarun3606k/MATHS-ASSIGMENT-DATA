{
 "cells": [
  {
   "cell_type": "markdown",
   "metadata": {},
   "source": [
    "# Formulate Hypotheses\n",
    "Define the null and alternative hypotheses to check for any significant difference in median 'Overall' scores across different age groups."
   ]
  },
  {
   "cell_type": "code",
   "execution_count": null,
   "metadata": {},
   "outputs": [
    {
     "name": "stdout",
     "output_type": "stream",
     "text": [
      "Requirement already satisfied: pandas in ./.venv/lib/python3.12/site-packages (2.2.3)\n",
      "Requirement already satisfied: scipy in ./.venv/lib/python3.12/site-packages (1.14.1)\n",
      "Requirement already satisfied: numpy>=1.26.0 in ./.venv/lib/python3.12/site-packages (from pandas) (2.1.3)\n",
      "Requirement already satisfied: python-dateutil>=2.8.2 in ./.venv/lib/python3.12/site-packages (from pandas) (2.9.0.post0)\n",
      "Requirement already satisfied: pytz>=2020.1 in ./.venv/lib/python3.12/site-packages (from pandas) (2024.2)\n",
      "Requirement already satisfied: tzdata>=2022.7 in ./.venv/lib/python3.12/site-packages (from pandas) (2024.2)\n",
      "Requirement already satisfied: six>=1.5 in ./.venv/lib/python3.12/site-packages (from python-dateutil>=2.8.2->pandas) (1.16.0)\n",
      "Note: you may need to restart the kernel to use updated packages.\n",
      "Index(['Sofifa_id', 'Short_name', 'Long_name', 'Age', 'Dob', 'Height_cm',\n",
      "       'Weight_kg', 'Nationality', 'Club', 'Overall', 'Potential', 'Value_eur',\n",
      "       'Wage_eur', 'Preferred_foot', 'International_reputation', 'Weak_foot',\n",
      "       'Skill_moves'],\n",
      "      dtype='object')\n"
     ]
    },
    {
     "data": {
      "text/plain": [
       "(np.float64(6573221.5), np.float64(0.0))"
      ]
     },
     "execution_count": 19,
     "metadata": {},
     "output_type": "execute_result"
    }
   ],
   "source": [
    "# Import necessary libraries\n",
    "%pip install pandas scipy\n",
    "import pandas as pd\n",
    "from scipy.stats import mannwhitneyu\n",
    "\n",
    "# Load the dataset\n",
    "# Assuming the dataset is a CSV file named 'data.csv'\n",
    "data = pd.read_csv('players_15.csv')\n",
    "\n",
    "# Inspect the column names\n",
    "print(data.columns)\n",
    "\n",
    "# Assuming the dataset has a column named 'Age' to create age groups\n",
    "# Create age groups\n",
    "data['AgeGroup'] = pd.cut(data['Age'], bins=[0, 20, 30, 40, 50, 100], labels=['Group1', 'Group2', 'Group3', 'Group4', 'Group5'])\n",
    "\n",
    "# Formulate the null and alternative hypotheses\n",
    "# H0: There is no significant difference in median 'Overall' scores across different age groups.\n",
    "# H1: There is a significant difference in median 'Overall' scores across different age groups.\n",
    "\n",
    "# Separate the data into different age groups\n",
    "age_group_1 = data[data['AgeGroup'] == 'Group1']['Overall']\n",
    "age_group_2 = data[data['AgeGroup'] == 'Group2']['Overall']\n",
    "\n",
    "# Perform the Mann-Whitney U test\n",
    "stat, p_value = mannwhitneyu(age_group_1, age_group_2)\n",
    "\n",
    "# Display the test statistic and p-value\n",
    "stat, p_value"
   ]
  },
  {
   "cell_type": "markdown",
   "metadata": {},
   "source": [
    "# Perform Mann-Whitney U Test\n",
    "Use the Mann-Whitney U test to evaluate the relationship between 'Overall' scores and age groups."
   ]
  },
  {
   "cell_type": "code",
   "execution_count": 20,
   "metadata": {},
   "outputs": [
    {
     "data": {
      "text/plain": [
       "(np.float64(6573221.5), np.float64(0.0))"
      ]
     },
     "execution_count": 20,
     "metadata": {},
     "output_type": "execute_result"
    }
   ],
   "source": [
    "# Perform the Mann-Whitney U Test\n",
    "stat, p_value = mannwhitneyu(age_group_1, age_group_2)\n",
    "\n",
    "# Display the test statistic and p-value\n",
    "stat, p_value"
   ]
  },
  {
   "cell_type": "markdown",
   "metadata": {},
   "source": [
    "# Calculate Margin of Error\n",
    "Determine the margin of error to evaluate the precision of the previous analysis and explain the reliability of the results."
   ]
  },
  {
   "cell_type": "code",
   "execution_count": 21,
   "metadata": {},
   "outputs": [
    {
     "data": {
      "text/plain": [
       "np.float64(0.011429382837886295)"
      ]
     },
     "execution_count": 21,
     "metadata": {},
     "output_type": "execute_result"
    }
   ],
   "source": [
    "import numpy as np\n",
    "import scipy.stats as stats\n",
    "\n",
    "# Calculate the sample size\n",
    "n1 = len(age_group_1)\n",
    "n2 = len(age_group_2)\n",
    "\n",
    "# Calculate the standard error\n",
    "se = np.sqrt((n1 + n2 + 1) / (12 * n1 * n2))\n",
    "\n",
    "# Calculate the margin of error at 95% confidence level\n",
    "z_score = stats.norm.ppf(0.975)  # Z-score for 95% confidence\n",
    "margin_of_error = z_score * se\n",
    "\n",
    "# Display the margin of error\n",
    "margin_of_error"
   ]
  }
 ],
 "metadata": {
  "kernelspec": {
   "display_name": ".venv",
   "language": "python",
   "name": "python3"
  },
  "language_info": {
   "codemirror_mode": {
    "name": "ipython",
    "version": 3
   },
   "file_extension": ".py",
   "mimetype": "text/x-python",
   "name": "python",
   "nbconvert_exporter": "python",
   "pygments_lexer": "ipython3",
   "version": "3.12.6"
  }
 },
 "nbformat": 4,
 "nbformat_minor": 2
}
